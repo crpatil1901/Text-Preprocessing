{
 "cells": [
  {
   "cell_type": "code",
   "execution_count": 26,
   "metadata": {},
   "outputs": [
    {
     "name": "stderr",
     "output_type": "stream",
     "text": [
      "[nltk_data] Downloading package averaged_perceptron_tagger to\n",
      "[nltk_data]     /Users/chinmay/nltk_data...\n",
      "[nltk_data]   Unzipping taggers/averaged_perceptron_tagger.zip.\n"
     ]
    },
    {
     "data": {
      "text/plain": [
       "True"
      ]
     },
     "execution_count": 26,
     "metadata": {},
     "output_type": "execute_result"
    }
   ],
   "source": [
    "import re\n",
    "import nltk\n",
    "import ssl\n",
    "\n",
    "try:\n",
    "    _create_unverified_https_context = ssl._create_unverified_context\n",
    "except AttributeError:\n",
    "    pass\n",
    "else:\n",
    "    ssl._create_default_https_context = _create_unverified_https_context\n",
    "\n",
    "nltk.download('averaged_perceptron_tagger') # download corpora"
   ]
  },
  {
   "cell_type": "code",
   "execution_count": 17,
   "metadata": {},
   "outputs": [
    {
     "data": {
      "text/plain": [
       "'LONDON, England (Reuters) -- Harry Potter star Daniel Radcliffe gains access to a reported £20 million ($41.1 million) fortune as he turns 18 on Monday, but he insists the money won\\'t cast a spell on him. Daniel Radcliffe as Harry Potter in \"Harry Potter and the Order of the Phoenix\" To the disappointment of gossip columnists around the world, the young actor says he has no plans to fritter his cash away on fast cars, drink and celebrity parties. \"I don\\'t plan to be one of those people who, as soon as they turn 18, suddenly buy themselves a massive sports car collection or something similar,\" he told an Australian interviewer earlier this month. \"I don\\'t think I\\'ll be particularly extravagant. \"The things I like buying are things that cost about 10 pounds -- books and CDs and DVDs.\" At 18, Radcliffe will be able to gamble in a casino, buy a drink in a pub or see the horror film \"Hostel: Part II,\" currently six places below his number one movie on the UK box office chart. Details of how he\\'ll mark his landmark birthday are under wraps. His agent and publicist had no comment on his plans. \"I\\'ll definitely have some sort of party,\" he said in an interview. \"Hopefully none of you will be reading about it.\" Radcliffe\\'s earnings from the first five Potter films have been held in a trust fund which he has not been able to touch. Despite his growing fame and riches, the actor says he is keeping his feet firmly on the ground. \"People are always looking to say \\'kid star goes off the rails,\\'\" he told reporters last month. \"But I try very hard not to go that way because it would be too easy for them.\" His latest outing as the boy wizard in \"Harry Potter and the Order of the Phoenix\" is breaking records on both sides of the Atlantic and he will reprise the role in the last two films. Watch I-Reporter give her review of Potter\\'s latest » . There is life beyond Potter, however. The Londoner has filmed a TV movie called \"My Boy Jack,\" about author Rudyard Kipling and his son, due for release later this year. He will also appear in \"December Boys,\" an Australian film about four boys who escape an orphanage. Earlier this year, he made his stage debut playing a tortured teenager in Peter Shaffer\\'s \"Equus.\" Meanwhile, he is braced for even closer media scrutiny now that he\\'s legally an adult: \"I just think I\\'m going to be more sort of fair game,\" he told Reuters. E-mail to a friend . Copyright 2007 Reuters. All rights reserved.This material may not be published, broadcast, rewritten, or redistributed.'"
      ]
     },
     "execution_count": 17,
     "metadata": {},
     "output_type": "execute_result"
    }
   ],
   "source": [
    "article = \"\"\"LONDON, England (Reuters) -- Harry Potter star Daniel Radcliffe gains access to a reported £20 million ($41.1 million) fortune as he turns 18 on Monday, but he insists the money won't cast a spell on him. Daniel Radcliffe as Harry Potter in \"Harry Potter and the Order of the Phoenix\" To the disappointment of gossip columnists around the world, the young actor says he has no plans to fritter his cash away on fast cars, drink and celebrity parties. \"I don't plan to be one of those people who, as soon as they turn 18, suddenly buy themselves a massive sports car collection or something similar,\" he told an Australian interviewer earlier this month. \"I don't think I'll be particularly extravagant. \"The things I like buying are things that cost about 10 pounds -- books and CDs and DVDs.\" At 18, Radcliffe will be able to gamble in a casino, buy a drink in a pub or see the horror film \"Hostel: Part II,\" currently six places below his number one movie on the UK box office chart. Details of how he'll mark his landmark birthday are under wraps. His agent and publicist had no comment on his plans. \"I'll definitely have some sort of party,\" he said in an interview. \"Hopefully none of you will be reading about it.\" Radcliffe's earnings from the first five Potter films have been held in a trust fund which he has not been able to touch. Despite his growing fame and riches, the actor says he is keeping his feet firmly on the ground. \"People are always looking to say 'kid star goes off the rails,'\" he told reporters last month. \"But I try very hard not to go that way because it would be too easy for them.\" His latest outing as the boy wizard in \"Harry Potter and the Order of the Phoenix\" is breaking records on both sides of the Atlantic and he will reprise the role in the last two films. Watch I-Reporter give her review of Potter's latest » . There is life beyond Potter, however. The Londoner has filmed a TV movie called \"My Boy Jack,\" about author Rudyard Kipling and his son, due for release later this year. He will also appear in \"December Boys,\" an Australian film about four boys who escape an orphanage. Earlier this year, he made his stage debut playing a tortured teenager in Peter Shaffer's \"Equus.\" Meanwhile, he is braced for even closer media scrutiny now that he's legally an adult: \"I just think I'm going to be more sort of fair game,\" he told Reuters. E-mail to a friend . Copyright 2007 Reuters. All rights reserved.This material may not be published, broadcast, rewritten, or redistributed.\"\"\"\n",
    "article"
   ]
  },
  {
   "cell_type": "code",
   "execution_count": 14,
   "metadata": {},
   "outputs": [],
   "source": [
    "def getSentences(article):\n",
    "    sentences = nltk.sent_tokenize(article)\n",
    "    return sentences\n",
    "sentences = getSentences(article)"
   ]
  },
  {
   "cell_type": "code",
   "execution_count": 22,
   "metadata": {},
   "outputs": [],
   "source": [
    "def convertShortForms(article):\n",
    "    article = article.replace(\"won't\", \"will not\")\n",
    "    article = article.replace(\"can't\", \"cannot\")\n",
    "    article = article.replace(\"i'm\", \"i am\")\n",
    "    article = article.replace(\"ain't\", \"is not\")\n",
    "    article = article.replace(\"(\\w+)'ll\", \"\\g<1> will\")\n",
    "    article = article.replace(\"(\\w+)'ve\", \"\\g<1> have\")\n",
    "    article = article.replace(\"(\\w+)'re\", \"\\g<1> are\")\n",
    "    article = article.replace(\"(\\w+)'d\", \"\\g<1> would\")\n",
    "    return article\n",
    "\n",
    "def convertAbbreviations(article):\n",
    "    article = article.replace(\"U.S.\", \"United States\")\n",
    "    article = article.replace(\"U.K.\", \"United Kingdom\")\n",
    "    article = article.replace(\"etc.\", \"and so on\")\n",
    "    article = article.replace(\"e.g.\", \"for example\")\n",
    "    article = article.replace(\"i.e.\", \"more precisely\")\n",
    "    return article\n",
    "\n",
    "def convertNumbers(article):\n",
    "    article = re.sub(r'(\\d+) million', r'\\g<1>000000', article)\n",
    "    article = re.sub(r'(\\d+) billion', r'\\g<1>000000000', article)\n",
    "    article = re.sub(r'(\\d+) trillion', r'\\g<1>000000000000', article)\n",
    "    return article\n",
    "\n",
    "def convertDates(article):\n",
    "    article = re.sub(r'(\\d+)/(\\d+)/(\\d+)', r'\\g<3>-\\g<1>-\\g<2>', article)\n",
    "    article = re.sub(r'(\\d+)-(\\d+)-(\\d+)', r'\\g<3>-\\g<1>-\\g<2>', article)\n",
    "    return article\n",
    "\n",
    "def convertMoney(article):\n",
    "    article = re.sub(r'\\$(\\d+)', r'\\g<1> dollars', article)\n",
    "    return article\n",
    "\n",
    "def removeStopWords(article):\n",
    "    article = article.split()\n",
    "    stopWords = set(nltk.corpus.stopwords.words('english'))\n",
    "    article = [word for word in article if word not in stopWords]\n",
    "    article = ' '.join(article)\n",
    "    return article\n",
    "\n",
    "def stemWords(article):\n",
    "    stemmer = nltk.stem.PorterStemmer()\n",
    "    article = article.split()\n",
    "    article = [stemmer.stem(word) for word in article]\n",
    "    article = ' '.join(article)\n",
    "    return article\n",
    "\n",
    "def lemmatizeWords(article):\n",
    "    lemmatizer = nltk.stem.WordNetLemmatizer()\n",
    "    article = article.split()\n",
    "    article = [lemmatizer.lemmatize(word) for word in article]\n",
    "    article = ' '.join(article)\n",
    "    return article\n",
    "\n",
    "def removePunctuation(article):\n",
    "    article = re.sub(r'[^\\w\\s]', '', article)\n",
    "    return article\n",
    "\n",
    "def process(article):\n",
    "    article = article.lower()\n",
    "    article = convertShortForms(article)\n",
    "    article = convertAbbreviations(article)\n",
    "    article = convertNumbers(article)\n",
    "    article = convertDates(article)\n",
    "    article = convertMoney(article)\n",
    "    article = removePunctuation(article)\n",
    "    article = removeStopWords(article)\n",
    "    article = lemmatizeWords(article)\n",
    "    return article\n"
   ]
  },
  {
   "cell_type": "code",
   "execution_count": null,
   "metadata": {},
   "outputs": [],
   "source": [
    "processedSentences = []\n",
    "for sentence in sentences:\n",
    "    processedSentences.append((sentence, process(sentence)))\n",
    "    "
   ]
  },
  {
   "cell_type": "code",
   "execution_count": 24,
   "metadata": {},
   "outputs": [],
   "source": [
    "processedArticle = process(article)"
   ]
  },
  {
   "cell_type": "code",
   "execution_count": 33,
   "metadata": {},
   "outputs": [],
   "source": [
    "taggedWords = nltk.pos_tag(processedArticle.split())\n",
    "\n",
    "wordCategories = dict()\n",
    "for word in taggedWords:\n",
    "    if word[1] in wordCategories:\n",
    "        wordCategories[word[1]].append(word[0])\n",
    "    else:\n",
    "        wordCategories[word[1]] = [word[0]]"
   ]
  },
  {
   "cell_type": "markdown",
   "metadata": {},
   "source": [
    "- CC coordinating conjunction\n",
    "- CD cardinal digit\n",
    "- DT determiner\n",
    "- EX existential there (like: “there is” … think of it like “there exists”)\n",
    "- FW foreign word\n",
    "- IN preposition/subordinating conjunction\n",
    "- JJ adjective ‘big’\n",
    "- JJR adjective, comparative ‘bigger’\n",
    "- JJS adjective, superlative ‘biggest’\n",
    "- LS list marker 1)\n",
    "- MD modal could, will\n",
    "- NN noun, singular ‘desk’\n",
    "- NNS noun plural ‘desks’\n",
    "- NNP proper noun, singular ‘Harrison’\n",
    "- NNPS proper noun, plural ‘Americans’\n",
    "- PDT predeterminer ‘all the kids’\n",
    "- POS possessive ending parent’s\n",
    "- PRP personal pronoun I, he, she\n",
    "- PRP$ possessive pronoun my, his, hers\n",
    "- RB adverb very, silently,\n",
    "- RBR adverb, comparative better\n",
    "- RBS adverb, superlative best\n",
    "- RP particle give up\n",
    "- TO, to go ‘to’ the store.\n",
    "- UH interjection, errrrrrrrm\n",
    "- VB verb, base form take\n",
    "- VBD verb, past tense took\n",
    "- VBG verb, gerund/present participle taking\n",
    "- VBN verb, past participle taken\n",
    "- VBP verb, sing. present, non-3d take\n",
    "- VBZ verb, 3rd person sing. present takes\n",
    "- WDT wh-determiner which\n",
    "- WP wh-pronoun who, what\n",
    "- WP$ possessive wh-pronoun whose\n",
    "- WRB wh-abverb where, when"
   ]
  },
  {
   "cell_type": "code",
   "execution_count": 42,
   "metadata": {},
   "outputs": [
    {
     "data": {
      "text/plain": [
       "[(6, 'potter'),\n",
       " (4, 'film'),\n",
       " (4, 'boy'),\n",
       " (3, 'radcliffe'),\n",
       " (3, 'plan'),\n",
       " (2, 'year'),\n",
       " (2, 'thing'),\n",
       " (2, 'star')]"
      ]
     },
     "execution_count": 42,
     "metadata": {},
     "output_type": "execute_result"
    }
   ],
   "source": [
    "def getCount(words):\n",
    "    count = dict()\n",
    "    for word in words:\n",
    "        if word in count:\n",
    "            count[word] += 1\n",
    "        else:\n",
    "            count[word] = 1\n",
    "    return count\n",
    "\n",
    "nounCounts = getCount(wordCategories['NN'])\n",
    "\n",
    "nounCounts = [(nounCounts[word], word) for word in nounCounts]\n",
    "nounCounts.sort(reverse=True)\n",
    "nounCounts[:8]"
   ]
  },
  {
   "cell_type": "code",
   "execution_count": null,
   "metadata": {},
   "outputs": [],
   "source": []
  }
 ],
 "metadata": {
  "kernelspec": {
   "display_name": "Python 3.10.5 64-bit",
   "language": "python",
   "name": "python3"
  },
  "language_info": {
   "codemirror_mode": {
    "name": "ipython",
    "version": 3
   },
   "file_extension": ".py",
   "mimetype": "text/x-python",
   "name": "python",
   "nbconvert_exporter": "python",
   "pygments_lexer": "ipython3",
   "version": "3.10.5"
  },
  "orig_nbformat": 4,
  "vscode": {
   "interpreter": {
    "hash": "aee8b7b246df8f9039afb4144a1f6fd8d2ca17a180786b69acc140d282b71a49"
   }
  }
 },
 "nbformat": 4,
 "nbformat_minor": 2
}
